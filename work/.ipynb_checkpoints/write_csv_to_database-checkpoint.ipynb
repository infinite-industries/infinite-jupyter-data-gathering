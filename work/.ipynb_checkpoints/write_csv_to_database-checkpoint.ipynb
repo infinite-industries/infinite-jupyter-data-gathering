{
 "cells": [
  {
   "cell_type": "markdown",
   "id": "cc39f05e-c337-40ef-9e0c-f978df13189c",
   "metadata": {},
   "source": [
    "### Write CSV to Database\n",
    "\n",
    "This will take the lat, long, altitude values from the mapped_venues.csv file (produced by running map-venues-lat-long.ipynb) and update the database according the values.\n",
    "\n",
    "The database connecion information is determined by a .env file placed at the root of this folder (**Don't check this file in**)\n",
    "\n",
    "**DANGER --** Make sure you know what database you are connecting to. **This can't be undone!**"
   ]
  },
  {
   "cell_type": "code",
   "execution_count": null,
   "id": "77120a4d-0d75-42da-b920-0ddf4bfeff2b",
   "metadata": {},
   "outputs": [],
   "source": [
    "import os\n",
    "import psycopg2 as ps\n",
    "import pandas as pd\n",
    "from IPython.display import HTML\n",
    "from datetime import date\n",
    "import warnings\n",
    "import matplotlib.pyplot as plt\n",
    "import time\n",
    "import requests\n",
    "import re\n",
    "import csv\n",
    "\n",
    "warnings.filterwarnings('ignore')\n",
    "\n",
    "conn = ps.connect(\n",
    "    host=os.environ[\"DB_HOST\"],\n",
    "    port=os.environ[\"DB_PORT\"],\n",
    "    dbname=os.environ[\"DB_NAME\"],\n",
    "    user=os.environ[\"DB_USER_NAME\"],\n",
    "    password=os.environ[\"DB_PW\"])\n",
    "\n",
    "def get_rows():\n",
    "    lst = []\n",
    "\n",
    "    with open('mapped_venues.csv', 'r', newline='') as input_file:    \n",
    "        for row in csv.DictReader(input_file):\n",
    "            lst.append(row)\n",
    "\n",
    "    return lst\n",
    "\n",
    "def get_sql_command(id, lat, long, alt):\n",
    "    return \"\"\"\n",
    "    UPDATE venues\n",
    "        SET gps_lat={lat},\n",
    "        gps_long={long},\n",
    "        gps_alt={alt}\n",
    "        WHERE id='{id}'\n",
    "    \"\"\".format(id=id, lat=lat,long=long, alt=alt)\n",
    "\n",
    "def update_venue_gps(id, lat, long, alt):\n",
    "    query = get_sql_command(id, lat, long, alt)\n",
    "    \n",
    "    #print(query)\n",
    "    pd.read_sql(query, con=conn)\n",
    "\n",
    "for row in get_rows():\n",
    "    print('updating ', row['id'])\n",
    "    update_venue_gps(row['id'], row['latitude'], row['longitude'], row['altitude'])\n",
    "\n",
    "conn.close()"
   ]
  },
  {
   "cell_type": "code",
   "execution_count": null,
   "id": "8f6c4521-4454-44af-8303-36b330e7d023",
   "metadata": {},
   "outputs": [],
   "source": [
    "pd.rea"
   ]
  },
  {
   "cell_type": "code",
   "execution_count": null,
   "id": "b875f440-0a76-4d16-824c-72de4bb3beb5",
   "metadata": {},
   "outputs": [],
   "source": []
  }
 ],
 "metadata": {
  "kernelspec": {
   "display_name": "Python 3 (ipykernel)",
   "language": "python",
   "name": "python3"
  },
  "language_info": {
   "codemirror_mode": {
    "name": "ipython",
    "version": 3
   },
   "file_extension": ".py",
   "mimetype": "text/x-python",
   "name": "python",
   "nbconvert_exporter": "python",
   "pygments_lexer": "ipython3",
   "version": "3.9.10"
  }
 },
 "nbformat": 4,
 "nbformat_minor": 5
}
