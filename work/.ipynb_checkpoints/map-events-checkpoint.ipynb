{
 "cells": [
  {
   "cell_type": "code",
   "execution_count": 8,
   "id": "f1986f3f-565f-4e88-91b6-79d5f7ea091b",
   "metadata": {},
   "outputs": [],
   "source": [
    "import requests\n",
    "import pandas as pd\n",
    "import json\n",
    "import pprint\n",
    "import seaborn as sns\n",
    "import matplotlib.pyplot as plt\n",
    "import os\n",
    "\n",
    "\n",
    "url_current_events = \"https://api.infinite.industries/v1/events/current-verified?embed=Venue&embed=DATE_TIME\"\n",
    "url_events = \"https://api.infinite.industries/v1/events\"\n",
    "\n",
    "\n",
    "def get_auth_token():\n",
    "    pw = os.environ[\"INFINITE_PW\"]\n",
    "    log_url = 'https://api.infinite.industries/v1/authentication/login'\n",
    "    log_req = requests.post(log_url, json = {\"username\":\"chris.wininger@gmail.com\",\"password\": pw })\n",
    "    \n",
    "    return log_req.json()['token']\n",
    "\n",
    "def do_get(url):\n",
    "    token = get_auth_token()\n",
    "    head = {'Authorization': 'x-access-token {}'.format(token)}\n",
    "\n",
    "    first_response = requests.get(url, headers={})\n",
    "    \n",
    "    return first_response.json()\n",
    "\n",
    "#len(response_list['events'])\n",
    "events = do_get(url_current_events)['events']"
   ]
  },
  {
   "cell_type": "code",
   "execution_count": 17,
   "id": "acddb8f4-b5bb-419e-94ed-e037efb0635b",
   "metadata": {},
   "outputs": [
    {
     "data": {
      "text/plain": [
       "{'Downtown Winchester': 1,\n",
       " 'The Spotlight Playhouse': 1,\n",
       " 'West Sixth Brewing': 2,\n",
       " 'Base 249': 2,\n",
       " 'The Kentucky Theater': 1,\n",
       " 'Kentucky Folk Art Center': 1,\n",
       " 'The Parachute Factory': 1,\n",
       " 'Josephine Sculpture Park': 1,\n",
       " 'Embassy Suites at Lexington Green': 1,\n",
       " 'Downtown Danville': 1,\n",
       " 'Greater Gardenside': 1,\n",
       " 'Downtown Lexington': 2,\n",
       " 'Carnegie Center for Literacy & Learning': 3,\n",
       " 'Twin Knobs Campground': 1,\n",
       " 'Oleika Temple Great Lawn': 1,\n",
       " 'Old Fayette County Courthouse': 1,\n",
       " 'Irish Hills Golf Course': 1,\n",
       " 'Waveland State Historic Site': 1,\n",
       " 'Singletary Center for the Arts': 3,\n",
       " 'Art Center of the Bluegrass': 1,\n",
       " 'Remote Event': 1,\n",
       " 'Headley-Whitney Museum': 1,\n",
       " 'Cathedral of Christ the King': 1,\n",
       " 'UK Albert B. Chandler Hospital Chapel Gallery': 1,\n",
       " 'The Lyric Theatre & Cultural Arts Center': 1}"
      ]
     },
     "execution_count": 17,
     "metadata": {},
     "output_type": "execute_result"
    }
   ],
   "source": [
    "\n",
    "venues = [e['venues'][0] for e in events]\n",
    "\n",
    "event_counts_by_venue = {}\n",
    "\n",
    "for venue in venues:\n",
    "    name = venue['name']\n",
    "    \n",
    "    if name in event_counts_by_venue:\n",
    "        event_counts_by_venue[name] = event_counts_by_venue[name] +1\n",
    "    else:\n",
    "        event_counts_by_venue[name] = 1\n",
    "\n",
    "event_counts_by_venue"
   ]
  },
  {
   "cell_type": "code",
   "execution_count": null,
   "id": "897fd5e8-e50c-42ed-806b-e91c2cbbd27a",
   "metadata": {},
   "outputs": [],
   "source": []
  },
  {
   "cell_type": "code",
   "execution_count": null,
   "id": "9a68a1aa-6bbd-4bce-8412-c5147c7b5b94",
   "metadata": {},
   "outputs": [],
   "source": []
  }
 ],
 "metadata": {
  "kernelspec": {
   "display_name": "Python 3 (ipykernel)",
   "language": "python",
   "name": "python3"
  },
  "language_info": {
   "codemirror_mode": {
    "name": "ipython",
    "version": 3
   },
   "file_extension": ".py",
   "mimetype": "text/x-python",
   "name": "python",
   "nbconvert_exporter": "python",
   "pygments_lexer": "ipython3",
   "version": "3.9.10"
  }
 },
 "nbformat": 4,
 "nbformat_minor": 5
}
